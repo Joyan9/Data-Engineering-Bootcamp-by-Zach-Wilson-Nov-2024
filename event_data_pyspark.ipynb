{
 "cells": [
  {
   "cell_type": "markdown",
   "id": "80ab90ce-f139-4f25-a210-010120b53c83",
   "metadata": {},
   "source": [
    "- Creates a Spark session with the app name \"Jupyter\"\n",
    "- Reads a CSV file from a specified path\n",
    "- Uses DATE_TRUNC to create a new column event_date that truncates the event_time to the start of the day"
   ]
  },
  {
   "cell_type": "code",
   "execution_count": 17,
   "id": "81cca085-dba2-42eb-a13b-fa64b6e86583",
   "metadata": {},
   "outputs": [
    {
     "name": "stdout",
     "output_type": "stream",
     "text": [
      "+-----------+--------+-----------------+---------+-------------+--------------------+--------------------+-------------------+\n",
      "|        url|referrer|   browser_family|os_family|device_family|                host|          event_time|         event_date|\n",
      "+-----------+--------+-----------------+---------+-------------+--------------------+--------------------+-------------------+\n",
      "|          /|    NULL|             curl|    Other|        Other| www.zachwilson.tech|2023-01-09 11:55:...|2023-01-09 00:00:00|\n",
      "|          /|    NULL|             curl|    Other|        Other| www.zachwilson.tech|2023-01-09 11:55:...|2023-01-09 00:00:00|\n",
      "|          /|    NULL|             curl|    Other|        Other| www.zachwilson.tech|2023-01-09 20:10:...|2023-01-09 00:00:00|\n",
      "|          /|    NULL|             curl|    Other|        Other| www.zachwilson.tech|2023-01-09 20:10:...|2023-01-09 00:00:00|\n",
      "|          /|    NULL|            Other|    Other|        Other|admin.zachwilson....|2023-01-10 04:43:...|2023-01-10 00:00:00|\n",
      "|          /|    NULL|            Other|    Other|        Other|admin.zachwilson....|2023-01-10 04:43:...|2023-01-10 00:00:00|\n",
      "|          /|    NULL|            Other|    Other|        Other| www.zachwilson.tech|2023-01-14 05:25:...|2023-01-14 00:00:00|\n",
      "|          /|    NULL|            Other|    Other|        Other| www.zachwilson.tech|2023-01-14 05:25:...|2023-01-14 00:00:00|\n",
      "|          /|    NULL|            Other|    Other|        Other| www.zachwilson.tech|2023-01-14 05:25:...|2023-01-14 00:00:00|\n",
      "|          /|    NULL|            Other|    Other|        Other| www.zachwilson.tech|2023-01-14 05:25:...|2023-01-14 00:00:00|\n",
      "|          /|    NULL|            Other|    Other|        Other| www.zachwilson.tech|2023-01-14 05:44:...|2023-01-14 00:00:00|\n",
      "|          /|    NULL|            Other|    Other|        Other| www.zachwilson.tech|2023-01-14 05:44:...|2023-01-14 00:00:00|\n",
      "| /?author=4|    NULL|Apache-HttpClient|    Other|        Other| www.zachwilson.tech|2023-01-22 10:29:...|2023-01-22 00:00:00|\n",
      "| /?author=4|    NULL|Apache-HttpClient|    Other|        Other| www.zachwilson.tech|2023-01-22 10:29:...|2023-01-22 00:00:00|\n",
      "| /?author=5|    NULL|Apache-HttpClient|    Other|        Other| www.zachwilson.tech|2023-01-22 10:29:...|2023-01-22 00:00:00|\n",
      "| /?author=5|    NULL|Apache-HttpClient|    Other|        Other| www.zachwilson.tech|2023-01-22 10:29:...|2023-01-22 00:00:00|\n",
      "|          /|    NULL|        AhrefsBot|    Other|       Spider| www.zachwilson.tech|2023-01-21 23:59:...|2023-01-21 00:00:00|\n",
      "|          /|    NULL|        AhrefsBot|    Other|       Spider| www.zachwilson.tech|2023-01-21 23:59:...|2023-01-21 00:00:00|\n",
      "|/robots.txt|    NULL|             NULL|     NULL|         NULL|    www.eczachly.com|2023-01-22 00:04:...|2023-01-22 00:00:00|\n",
      "|   /ads.txt|    NULL|     WellKnownBot|    Other|       Spider|    www.eczachly.com|2023-01-22 00:04:...|2023-01-22 00:00:00|\n",
      "+-----------+--------+-----------------+---------+-------------+--------------------+--------------------+-------------------+\n",
      "only showing top 20 rows\n",
      "\n"
     ]
    }
   ],
   "source": [
    "from pyspark.sql import SparkSession\n",
    "from pyspark.sql.functions import expr, col\n",
    "# Build a Spark Session and give it a app name\n",
    "spark = SparkSession.builder.appName(\"Jupyter\").getOrCreate()\n",
    "\n",
    "#spark\n",
    "\n",
    "df = spark.read.option(\"header\", \"true\").csv(\"/home/iceberg/data/updated_events_lab_1.csv\").withColumn(\"event_date\", expr(\"DATE_TRUNC('day', event_time)\"))\n",
    "\n",
    "df.show()\n",
    "#df.collect() can lead OOM instead you can do like .take(5) or something. Data should always be limited to avoid over memory issues"
   ]
  },
  {
   "cell_type": "markdown",
   "id": "64bef3b2-42db-4929-99e2-bb507ed9e64e",
   "metadata": {},
   "source": [
    "Some key points to understand the .explain() output\n",
    "- Start by reading the most indented line first\n",
    "- Project can be translated as \"SELECT\" statement\n",
    "- Exchange indicates Shuffle"
   ]
  },
  {
   "cell_type": "code",
   "execution_count": 18,
   "id": "dce068df-3e21-429a-8716-abdd13e9406c",
   "metadata": {},
   "outputs": [
    {
     "name": "stdout",
     "output_type": "stream",
     "text": [
      "== Physical Plan ==\n",
      "AdaptiveSparkPlan isFinalPlan=false\n",
      "+- Project [url#432, referrer#433, browser_family#434, os_family#435, device_family#436, host#437, cast(event_time#438 as timestamp) AS event_time#498, event_date#448]\n",
      "   +- Sort [event_date#448 ASC NULLS FIRST, host#437 ASC NULLS FIRST], false, 0\n",
      "      +- Exchange hashpartitioning(event_date#448, 10), REPARTITION_BY_NUM, [plan_id=508]\n",
      "         +- Project [url#432, referrer#433, browser_family#434, os_family#435, device_family#436, host#437, event_time#438, date_trunc(day, cast(event_time#438 as timestamp), Some(Etc/UTC)) AS event_date#448]\n",
      "            +- FileScan csv [url#432,referrer#433,browser_family#434,os_family#435,device_family#436,host#437,event_time#438] Batched: false, DataFilters: [], Format: CSV, Location: InMemoryFileIndex(1 paths)[file:/home/iceberg/data/updated_events_lab_1.csv], PartitionFilters: [], PushedFilters: [], ReadSchema: struct<url:string,referrer:string,browser_family:string,os_family:string,device_family:string,hos...\n",
      "\n",
      "\n",
      "== Physical Plan ==\n",
      "AdaptiveSparkPlan isFinalPlan=false\n",
      "+- Project [url#432, referrer#433, browser_family#434, os_family#435, device_family#436, host#437, cast(event_time#438 as timestamp) AS event_time#507, event_date#448]\n",
      "   +- Sort [event_date#448 ASC NULLS FIRST, host#437 ASC NULLS FIRST], true, 0\n",
      "      +- Exchange rangepartitioning(event_date#448 ASC NULLS FIRST, host#437 ASC NULLS FIRST, 200), ENSURE_REQUIREMENTS, [plan_id=530]\n",
      "         +- Exchange hashpartitioning(event_date#448, 10), REPARTITION_BY_NUM, [plan_id=526]\n",
      "            +- Project [url#432, referrer#433, browser_family#434, os_family#435, device_family#436, host#437, event_time#438, date_trunc(day, cast(event_time#438 as timestamp), Some(Etc/UTC)) AS event_date#448]\n",
      "               +- FileScan csv [url#432,referrer#433,browser_family#434,os_family#435,device_family#436,host#437,event_time#438] Batched: false, DataFilters: [], Format: CSV, Location: InMemoryFileIndex(1 paths)[file:/home/iceberg/data/updated_events_lab_1.csv], PartitionFilters: [], PushedFilters: [], ReadSchema: struct<url:string,referrer:string,browser_family:string,os_family:string,device_family:string,hos...\n",
      "\n",
      "\n"
     ]
    },
    {
     "data": {
      "text/plain": [
       "'\\nsortWithinPartitions Vs sort\\n- sortWithinPartitions: This will start by sorting within the partitions. Should be used at scale instead of .sort\\n- sort: This does a global sort, not just within the partitions. This can be very slow if the size of the dataset is huge\\n'"
      ]
     },
     "execution_count": 18,
     "metadata": {},
     "output_type": "execute_result"
    }
   ],
   "source": [
    "sorted = df.repartition(10, col(\"event_date\")) \\\n",
    "        .sortWithinPartitions(col(\"event_date\"), col(\"host\")) \\\n",
    "        .withColumn(\"event_time\", col(\"event_time\").cast(\"timestamp\")) \\\n",
    "\n",
    "sortedTwo = df.repartition(10, col(\"event_date\")) \\\n",
    "        .sort(col(\"event_date\"), col(\"host\")) \\\n",
    "        .withColumn(\"event_time\", col(\"event_time\").cast(\"timestamp\")) \\\n",
    "\n",
    "#sorted.show()\n",
    "#sortedTwo.show()\n",
    "sorted.explain()\n",
    "sortedTwo.explain()\n",
    "\"\"\"\n",
    "sortWithinPartitions Vs sort\n",
    "- sortWithinPartitions: This will start by sorting within the partitions. Should be used at scale instead of .sort\n",
    "- sort: This does a global sort, not just within the partitions. This can be very slow if the size of the dataset is huge\n",
    "\"\"\""
   ]
  },
  {
   "cell_type": "markdown",
   "id": "acd85682-a1f6-4e3e-b52b-9ea9b5cb91b3",
   "metadata": {},
   "source": [
    "Database and Table Creation\n",
    "The script then creates several SQL tables:\n",
    "\n",
    "\n",
    "- Creates a database bootcamp\n",
    "- Creates three tables:\n",
    "\n",
    "1. events: Main events table\n",
    "2. events_sorted: Sorted events table\n",
    "3. events_unsorted: Unsorted events table\n",
    "\n",
    "All tables are created using the Iceberg format and partitioned by date."
   ]
  },
  {
   "cell_type": "markdown",
   "id": "b17379da-4096-4e84-9d1e-352683ff7ff3",
   "metadata": {},
   "source": [
    "Iceberg Format\n",
    "- Open table format for large-scale data processing first developed by Netflix\n",
    "\n",
    "Key Pros\n",
    "1. You can add/delete/modify columns without reading the entire table\n",
    "2. You can change table's partitioning strategy without rewriting the table\n",
    "3. Allows querying historical versions of the table\n",
    "\n",
    "How It Works\n",
    "- Uses metadata files to track table structure and data files\n",
    "- Maintains a snapshot history of table changes\n",
    "- Supports ACID (Atomicity, Consistency, Isolation, Durability) transactions\n",
    "\n",
    "\n",
    "Comparison to Other Formats\n",
    "- More advanced than traditional Hive tables\n",
    "- More flexible than Parquet or ORC file formats\n",
    "- Provides better performance and management for large-scale data"
   ]
  },
  {
   "cell_type": "code",
   "execution_count": 19,
   "id": "d800dca7-2737-4192-b5c0-c1806c105e15",
   "metadata": {},
   "outputs": [
    {
     "data": {
      "text/html": [
       "<table>\n",
       "    <thead>\n",
       "        <tr>\n",
       "        </tr>\n",
       "    </thead>\n",
       "    <tbody>\n",
       "    </tbody>\n",
       "</table>"
      ],
      "text/plain": [
       "++\n",
       "||\n",
       "++\n",
       "++"
      ]
     },
     "execution_count": 19,
     "metadata": {},
     "output_type": "execute_result"
    }
   ],
   "source": [
    "%%sql\n",
    "\n",
    "CREATE DATABASE IF NOT EXISTS bootcamp"
   ]
  },
  {
   "cell_type": "code",
   "execution_count": 20,
   "id": "e83cd813-d5c0-4d67-8285-849b882b8bfa",
   "metadata": {},
   "outputs": [
    {
     "data": {
      "text/html": [
       "<table>\n",
       "    <thead>\n",
       "        <tr>\n",
       "        </tr>\n",
       "    </thead>\n",
       "    <tbody>\n",
       "    </tbody>\n",
       "</table>"
      ],
      "text/plain": [
       "++\n",
       "||\n",
       "++\n",
       "++"
      ]
     },
     "execution_count": 20,
     "metadata": {},
     "output_type": "execute_result"
    }
   ],
   "source": [
    "%%sql\n",
    "\n",
    "DROP TABLE IF EXISTS bootcamp.events"
   ]
  },
  {
   "cell_type": "code",
   "execution_count": 21,
   "id": "d1b197a9-1b63-4130-acbe-01418eede0e5",
   "metadata": {
    "scrolled": true
   },
   "outputs": [
    {
     "data": {
      "text/html": [
       "<table>\n",
       "    <thead>\n",
       "        <tr>\n",
       "        </tr>\n",
       "    </thead>\n",
       "    <tbody>\n",
       "    </tbody>\n",
       "</table>"
      ],
      "text/plain": [
       "++\n",
       "||\n",
       "++\n",
       "++"
      ]
     },
     "execution_count": 21,
     "metadata": {},
     "output_type": "execute_result"
    }
   ],
   "source": [
    "%%sql\n",
    "\n",
    "CREATE TABLE IF NOT EXISTS bootcamp.events (\n",
    "    url STRING,\n",
    "    referrer STRING,\n",
    "    browser_family STRING,\n",
    "    os_family STRING,\n",
    "    device_family STRING,\n",
    "    host STRING,\n",
    "    event_time TIMESTAMP,\n",
    "    event_date DATE\n",
    ")\n",
    "USING iceberg\n",
    "PARTITIONED BY (years(event_date));\n"
   ]
  },
  {
   "cell_type": "code",
   "execution_count": 22,
   "id": "c40b143f-295e-4875-bd7f-12409312b800",
   "metadata": {
    "scrolled": true
   },
   "outputs": [
    {
     "data": {
      "text/html": [
       "<table>\n",
       "    <thead>\n",
       "        <tr>\n",
       "        </tr>\n",
       "    </thead>\n",
       "    <tbody>\n",
       "    </tbody>\n",
       "</table>"
      ],
      "text/plain": [
       "++\n",
       "||\n",
       "++\n",
       "++"
      ]
     },
     "execution_count": 22,
     "metadata": {},
     "output_type": "execute_result"
    }
   ],
   "source": [
    "%%sql\n",
    "\n",
    "\n",
    "CREATE TABLE IF NOT EXISTS bootcamp.events_sorted (\n",
    "    url STRING,\n",
    "    referrer STRING,\n",
    "    browser_family STRING,\n",
    "    os_family STRING,\n",
    "    device_family STRING,\n",
    "    host STRING,\n",
    "    event_time TIMESTAMP,\n",
    "    event_date DATE\n",
    ")\n",
    "USING iceberg\n",
    "PARTITIONED BY (event_date);"
   ]
  },
  {
   "cell_type": "code",
   "execution_count": 23,
   "id": "00c86e79-a911-464c-ad58-acc92859dcc6",
   "metadata": {
    "scrolled": true
   },
   "outputs": [
    {
     "data": {
      "text/html": [
       "<table>\n",
       "    <thead>\n",
       "        <tr>\n",
       "        </tr>\n",
       "    </thead>\n",
       "    <tbody>\n",
       "    </tbody>\n",
       "</table>"
      ],
      "text/plain": [
       "++\n",
       "||\n",
       "++\n",
       "++"
      ]
     },
     "execution_count": 23,
     "metadata": {},
     "output_type": "execute_result"
    }
   ],
   "source": [
    "%%sql\n",
    "\n",
    "\n",
    "CREATE TABLE IF NOT EXISTS bootcamp.events_unsorted (\n",
    "    url STRING,\n",
    "    referrer STRING,\n",
    "    browser_family STRING,\n",
    "    os_family STRING,\n",
    "    device_family STRING,\n",
    "    host STRING,\n",
    "    event_time TIMESTAMP,\n",
    "    event_date DATE\n",
    ")\n",
    "USING iceberg\n",
    "PARTITIONED BY (event_date);"
   ]
  },
  {
   "cell_type": "code",
   "execution_count": 31,
   "id": "2c1254bc-9ecf-4c86-bfd9-de81ecfbb78b",
   "metadata": {},
   "outputs": [
    {
     "name": "stderr",
     "output_type": "stream",
     "text": [
      "                                                                                \r"
     ]
    }
   ],
   "source": [
    "\n",
    "start_df = df.repartition(4, col(\"event_date\")).withColumn(\"event_time\", col(\"event_time\").cast(\"timestamp\")) \n",
    "    \n",
    "\n",
    "first_sort_df = start_df.sortWithinPartitions(col(\"event_date\"), col(\"browser_family\"), col(\"host\"))\n",
    "\n",
    "\n",
    "start_df.write.mode(\"overwrite\").saveAsTable(\"bootcamp.events_unsorted\")\n",
    "first_sort_df.write.mode(\"overwrite\").saveAsTable(\"bootcamp.events_sorted\")"
   ]
  },
  {
   "cell_type": "code",
   "execution_count": 32,
   "id": "d207a11b-b0a4-4662-bbe9-747d8f67be7d",
   "metadata": {},
   "outputs": [
    {
     "data": {
      "text/html": [
       "<table>\n",
       "    <thead>\n",
       "        <tr>\n",
       "            <th>size</th>\n",
       "            <th>num_files</th>\n",
       "            <th>sorted</th>\n",
       "        </tr>\n",
       "    </thead>\n",
       "    <tbody>\n",
       "        <tr>\n",
       "            <td>122268</td>\n",
       "            <td>4</td>\n",
       "            <td>sorted</td>\n",
       "        </tr>\n",
       "        <tr>\n",
       "            <td>128866</td>\n",
       "            <td>4</td>\n",
       "            <td>unsorted</td>\n",
       "        </tr>\n",
       "    </tbody>\n",
       "</table>"
      ],
      "text/plain": [
       "+--------+-----------+----------+\n",
       "|   size | num_files |   sorted |\n",
       "+--------+-----------+----------+\n",
       "| 122268 |         4 |   sorted |\n",
       "| 128866 |         4 | unsorted |\n",
       "+--------+-----------+----------+"
      ]
     },
     "execution_count": 32,
     "metadata": {},
     "output_type": "execute_result"
    }
   ],
   "source": [
    "%%sql\n",
    "\n",
    "SELECT SUM(file_size_in_bytes) as size, COUNT(1) as num_files, 'sorted' \n",
    "FROM demo.bootcamp.events_sorted.files\n",
    "\n",
    "UNION ALL\n",
    "SELECT SUM(file_size_in_bytes) as size, COUNT(1) as num_files, 'unsorted' \n",
    "FROM demo.bootcamp.events_unsorted.files"
   ]
  },
  {
   "cell_type": "code",
   "execution_count": 26,
   "id": "a93db4d6-ac15-4d0e-83da-77b93ad618da",
   "metadata": {},
   "outputs": [
    {
     "data": {
      "text/html": [
       "<table>\n",
       "    <thead>\n",
       "        <tr>\n",
       "            <th>size</th>\n",
       "            <th>num_files</th>\n",
       "        </tr>\n",
       "    </thead>\n",
       "    <tbody>\n",
       "        <tr>\n",
       "            <td>None</td>\n",
       "            <td>0</td>\n",
       "        </tr>\n",
       "    </tbody>\n",
       "</table>"
      ],
      "text/plain": [
       "+------+-----------+\n",
       "| size | num_files |\n",
       "+------+-----------+\n",
       "| None |         0 |\n",
       "+------+-----------+"
      ]
     },
     "execution_count": 26,
     "metadata": {},
     "output_type": "execute_result"
    }
   ],
   "source": [
    "%%sql\n",
    "SELECT SUM(file_size_in_bytes) as size, COUNT(1) as num_files FROM demo.bootcamp.events.files;"
   ]
  },
  {
   "cell_type": "raw",
   "id": "72cf4068-3c0e-467f-8535-b4a429a04db5",
   "metadata": {
    "collapsed": false,
    "jupyter": {
     "outputs_hidden": false
    },
    "pycharm": {
     "name": "#%%\n"
    }
   },
   "source": [
    "%%sql \n",
    "SELECT COUNT(1) FROM bootcamp.matches_bucketed.files"
   ]
  },
  {
   "cell_type": "code",
   "execution_count": null,
   "id": "591ba0b7-2e6f-420a-960d-95e5734b0166",
   "metadata": {},
   "outputs": [],
   "source": []
  }
 ],
 "metadata": {
  "kernelspec": {
   "display_name": "Python 3 (ipykernel)",
   "language": "python",
   "name": "python3"
  },
  "language_info": {
   "codemirror_mode": {
    "name": "ipython",
    "version": 3
   },
   "file_extension": ".py",
   "mimetype": "text/x-python",
   "name": "python",
   "nbconvert_exporter": "python",
   "pygments_lexer": "ipython3",
   "version": "3.9.18"
  }
 },
 "nbformat": 4,
 "nbformat_minor": 5
}
